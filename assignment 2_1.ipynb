{
 "cells": [
  {
   "cell_type": "markdown",
   "metadata": {},
   "source": [
    "Problem Statement 1:\n",
    "Write a Python Program to implement your own myreduce() function which works exactly\n",
    "like Python's built-in function reduce()\n"
   ]
  },
  {
   "cell_type": "code",
   "execution_count": 4,
   "metadata": {},
   "outputs": [
    {
     "name": "stdout",
     "output_type": "stream",
     "text": [
      "120\n"
     ]
    }
   ],
   "source": [
    "def myreduce(func, elem_list):\n",
    "    if len(elem_list) == 0:\n",
    "        return []\n",
    "    output = elem_list[0]\n",
    "    for i in range(1, len(elem_list)):\n",
    "        output = func(output, elem_list[i])\n",
    "    return output\n",
    "        \n",
    "nums = [1,2,3,4,5]\n",
    "output = myreduce(lambda x,y: x*y, nums)\n",
    "print(output)\n",
    "\n"
   ]
  },
  {
   "cell_type": "markdown",
   "metadata": {},
   "source": [
    "Problem Statement 2: \n",
    "Write a Python program to implement your own myfilter() function which works exactly like Python's built-in function filter()"
   ]
  },
  {
   "cell_type": "code",
   "execution_count": 7,
   "metadata": {},
   "outputs": [
    {
     "name": "stdout",
     "output_type": "stream",
     "text": [
      "[3, 4]\n"
     ]
    }
   ],
   "source": [
    "def myfilter(func, elem_list):\n",
    "    output = []\n",
    "    for elem in elem_list:\n",
    "        if func(elem) == True: \n",
    "            output.append(elem)\n",
    "    return output\n",
    "nums = [-1,-2,0,3,4]\n",
    "output = myfilter(lambda x: x > 0, nums)\n",
    "print(output)"
   ]
  }
 ],
 "metadata": {
  "kernelspec": {
   "display_name": "Python 3",
   "language": "python",
   "name": "python3"
  },
  "language_info": {
   "codemirror_mode": {
    "name": "ipython",
    "version": 3
   },
   "file_extension": ".py",
   "mimetype": "text/x-python",
   "name": "python",
   "nbconvert_exporter": "python",
   "pygments_lexer": "ipython3",
   "version": "3.6.3"
  }
 },
 "nbformat": 4,
 "nbformat_minor": 2
}
